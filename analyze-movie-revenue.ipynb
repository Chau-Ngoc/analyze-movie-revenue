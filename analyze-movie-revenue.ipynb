{
 "cells": [
  {
   "cell_type": "markdown",
   "metadata": {},
   "source": [
    "# Analyze Correlation Exists Between Movies Revenue its Budget"
   ]
  },
  {
   "cell_type": "markdown",
   "metadata": {},
   "source": [
    "## Data Exploration and Data Cleaning"
   ]
  },
  {
   "cell_type": "code",
   "execution_count": 1,
   "metadata": {},
   "outputs": [],
   "source": [
    "import pandas as pd"
   ]
  },
  {
   "cell_type": "code",
   "execution_count": 2,
   "metadata": {},
   "outputs": [
    {
     "data": {
      "text/html": [
       "<div>\n",
       "<style scoped>\n",
       "    .dataframe tbody tr th:only-of-type {\n",
       "        vertical-align: middle;\n",
       "    }\n",
       "\n",
       "    .dataframe tbody tr th {\n",
       "        vertical-align: top;\n",
       "    }\n",
       "\n",
       "    .dataframe thead th {\n",
       "        text-align: right;\n",
       "    }\n",
       "</style>\n",
       "<table border=\"1\" class=\"dataframe\">\n",
       "  <thead>\n",
       "    <tr style=\"text-align: right;\">\n",
       "      <th></th>\n",
       "      <th>Rank</th>\n",
       "      <th>Release_Date</th>\n",
       "      <th>Movie_Title</th>\n",
       "      <th>USD_Production_Budget</th>\n",
       "      <th>USD_Worldwide_Gross</th>\n",
       "      <th>USD_Domestic_Gross</th>\n",
       "    </tr>\n",
       "  </thead>\n",
       "  <tbody>\n",
       "    <tr>\n",
       "      <th>1957</th>\n",
       "      <td>917</td>\n",
       "      <td>1/8/2003</td>\n",
       "      <td>American Wedding</td>\n",
       "      <td>$55,000,000</td>\n",
       "      <td>$126,425,115</td>\n",
       "      <td>$104,354,205</td>\n",
       "    </tr>\n",
       "    <tr>\n",
       "      <th>120</th>\n",
       "      <td>4254</td>\n",
       "      <td>7/4/1965</td>\n",
       "      <td>Major Dundee</td>\n",
       "      <td>$3,800,000</td>\n",
       "      <td>$14,873</td>\n",
       "      <td>$14,873</td>\n",
       "    </tr>\n",
       "    <tr>\n",
       "      <th>5324</th>\n",
       "      <td>1863</td>\n",
       "      <td>2/24/2017</td>\n",
       "      <td>Collide</td>\n",
       "      <td>$29,200,000</td>\n",
       "      <td>$5,278,519</td>\n",
       "      <td>$2,280,004</td>\n",
       "    </tr>\n",
       "    <tr>\n",
       "      <th>4014</th>\n",
       "      <td>4867</td>\n",
       "      <td>10/21/2011</td>\n",
       "      <td>Martha Marcy May Marlene</td>\n",
       "      <td>$1,000,000</td>\n",
       "      <td>$5,438,911</td>\n",
       "      <td>$2,981,038</td>\n",
       "    </tr>\n",
       "    <tr>\n",
       "      <th>5136</th>\n",
       "      <td>2145</td>\n",
       "      <td>1/29/2016</td>\n",
       "      <td>Jane Got a Gun</td>\n",
       "      <td>$25,000,000</td>\n",
       "      <td>$2,976,636</td>\n",
       "      <td>$1,513,793</td>\n",
       "    </tr>\n",
       "    <tr>\n",
       "      <th>4336</th>\n",
       "      <td>5199</td>\n",
       "      <td>2/8/2013</td>\n",
       "      <td>The Canyons</td>\n",
       "      <td>$250,000</td>\n",
       "      <td>$62,375</td>\n",
       "      <td>$59,671</td>\n",
       "    </tr>\n",
       "    <tr>\n",
       "      <th>3091</th>\n",
       "      <td>1312</td>\n",
       "      <td>2/22/2008</td>\n",
       "      <td>Vantage Point</td>\n",
       "      <td>$40,000,000</td>\n",
       "      <td>$150,886,329</td>\n",
       "      <td>$72,266,306</td>\n",
       "    </tr>\n",
       "    <tr>\n",
       "      <th>456</th>\n",
       "      <td>1779</td>\n",
       "      <td>12/19/1986</td>\n",
       "      <td>Little Shop of Horrors</td>\n",
       "      <td>$30,000,000</td>\n",
       "      <td>$38,747,385</td>\n",
       "      <td>$38,747,385</td>\n",
       "    </tr>\n",
       "    <tr>\n",
       "      <th>476</th>\n",
       "      <td>2213</td>\n",
       "      <td>7/17/1987</td>\n",
       "      <td>Jaws 4: The Revenge</td>\n",
       "      <td>$23,000,000</td>\n",
       "      <td>$15,728,335</td>\n",
       "      <td>$15,728,335</td>\n",
       "    </tr>\n",
       "    <tr>\n",
       "      <th>3526</th>\n",
       "      <td>4035</td>\n",
       "      <td>12/6/2009</td>\n",
       "      <td>Moon</td>\n",
       "      <td>$5,000,000</td>\n",
       "      <td>$10,676,073</td>\n",
       "      <td>$5,010,163</td>\n",
       "    </tr>\n",
       "  </tbody>\n",
       "</table>\n",
       "</div>"
      ],
      "text/plain": [
       "      Rank Release_Date               Movie_Title USD_Production_Budget  \\\n",
       "1957   917     1/8/2003          American Wedding           $55,000,000   \n",
       "120   4254     7/4/1965              Major Dundee            $3,800,000   \n",
       "5324  1863    2/24/2017                   Collide           $29,200,000   \n",
       "4014  4867   10/21/2011  Martha Marcy May Marlene            $1,000,000   \n",
       "5136  2145    1/29/2016            Jane Got a Gun           $25,000,000   \n",
       "4336  5199     2/8/2013               The Canyons              $250,000   \n",
       "3091  1312    2/22/2008             Vantage Point           $40,000,000   \n",
       "456   1779   12/19/1986    Little Shop of Horrors           $30,000,000   \n",
       "476   2213    7/17/1987       Jaws 4: The Revenge           $23,000,000   \n",
       "3526  4035    12/6/2009                      Moon            $5,000,000   \n",
       "\n",
       "     USD_Worldwide_Gross USD_Domestic_Gross  \n",
       "1957        $126,425,115       $104,354,205  \n",
       "120              $14,873            $14,873  \n",
       "5324          $5,278,519         $2,280,004  \n",
       "4014          $5,438,911         $2,981,038  \n",
       "5136          $2,976,636         $1,513,793  \n",
       "4336             $62,375            $59,671  \n",
       "3091        $150,886,329        $72,266,306  \n",
       "456          $38,747,385        $38,747,385  \n",
       "476          $15,728,335        $15,728,335  \n",
       "3526         $10,676,073         $5,010,163  "
      ]
     },
     "execution_count": 2,
     "metadata": {},
     "output_type": "execute_result"
    }
   ],
   "source": [
    "df = pd.read_csv('data/cost_revenue_dirty.csv')\n",
    "df.sample(n=10)"
   ]
  },
  {
   "cell_type": "code",
   "execution_count": 3,
   "metadata": {},
   "outputs": [
    {
     "name": "stdout",
     "output_type": "stream",
     "text": [
      "The shape: (5391, 6)\n",
      "The column names: Index(['Rank', 'Release_Date', 'Movie_Title', 'USD_Production_Budget',\n",
      "       'USD_Worldwide_Gross', 'USD_Domestic_Gross'],\n",
      "      dtype='object')\n"
     ]
    }
   ],
   "source": [
    "print(f'The shape: {df.shape}')\n",
    "print(f'The column names: {df.columns}')"
   ]
  },
  {
   "cell_type": "markdown",
   "metadata": {},
   "source": [
    "Are there any NaN values, check the datatype of each column, are there any duplicated entries."
   ]
  },
  {
   "cell_type": "code",
   "execution_count": 4,
   "metadata": {},
   "outputs": [
    {
     "data": {
      "text/plain": [
       "Rank                     False\n",
       "Release_Date             False\n",
       "Movie_Title              False\n",
       "USD_Production_Budget    False\n",
       "USD_Worldwide_Gross      False\n",
       "USD_Domestic_Gross       False\n",
       "dtype: bool"
      ]
     },
     "execution_count": 4,
     "metadata": {},
     "output_type": "execute_result"
    }
   ],
   "source": [
    "df.isna().any()"
   ]
  },
  {
   "cell_type": "code",
   "execution_count": 5,
   "metadata": {},
   "outputs": [
    {
     "name": "stdout",
     "output_type": "stream",
     "text": [
      "<class 'pandas.core.frame.DataFrame'>\n",
      "RangeIndex: 5391 entries, 0 to 5390\n",
      "Data columns (total 6 columns):\n",
      " #   Column                 Non-Null Count  Dtype \n",
      "---  ------                 --------------  ----- \n",
      " 0   Rank                   5391 non-null   int64 \n",
      " 1   Release_Date           5391 non-null   object\n",
      " 2   Movie_Title            5391 non-null   object\n",
      " 3   USD_Production_Budget  5391 non-null   object\n",
      " 4   USD_Worldwide_Gross    5391 non-null   object\n",
      " 5   USD_Domestic_Gross     5391 non-null   object\n",
      "dtypes: int64(1), object(5)\n",
      "memory usage: 252.8+ KB\n"
     ]
    }
   ],
   "source": [
    "df.info()"
   ]
  },
  {
   "cell_type": "code",
   "execution_count": 6,
   "metadata": {},
   "outputs": [
    {
     "data": {
      "text/plain": [
       "True"
      ]
     },
     "execution_count": 6,
     "metadata": {},
     "output_type": "execute_result"
    }
   ],
   "source": [
    "df.duplicated(subset=['Release_Date', 'Movie_Title']).any()"
   ]
  },
  {
   "cell_type": "markdown",
   "metadata": {},
   "source": [
    "There are duplicated entries in the `Release_Date` and `Movie_Title` subset.\n",
    "\n",
    "Let's see what they are?"
   ]
  },
  {
   "cell_type": "code",
   "execution_count": 7,
   "metadata": {},
   "outputs": [
    {
     "data": {
      "text/html": [
       "<div>\n",
       "<style scoped>\n",
       "    .dataframe tbody tr th:only-of-type {\n",
       "        vertical-align: middle;\n",
       "    }\n",
       "\n",
       "    .dataframe tbody tr th {\n",
       "        vertical-align: top;\n",
       "    }\n",
       "\n",
       "    .dataframe thead th {\n",
       "        text-align: right;\n",
       "    }\n",
       "</style>\n",
       "<table border=\"1\" class=\"dataframe\">\n",
       "  <thead>\n",
       "    <tr style=\"text-align: right;\">\n",
       "      <th></th>\n",
       "      <th>Rank</th>\n",
       "      <th>Release_Date</th>\n",
       "      <th>Movie_Title</th>\n",
       "      <th>USD_Production_Budget</th>\n",
       "      <th>USD_Worldwide_Gross</th>\n",
       "      <th>USD_Domestic_Gross</th>\n",
       "    </tr>\n",
       "  </thead>\n",
       "  <tbody>\n",
       "    <tr>\n",
       "      <th>3055</th>\n",
       "      <td>5290</td>\n",
       "      <td>12/31/2007</td>\n",
       "      <td>A Dog's Breakfast</td>\n",
       "      <td>$120,000</td>\n",
       "      <td>$0</td>\n",
       "      <td>$0</td>\n",
       "    </tr>\n",
       "  </tbody>\n",
       "</table>\n",
       "</div>"
      ],
      "text/plain": [
       "      Rank Release_Date        Movie_Title USD_Production_Budget  \\\n",
       "3055  5290   12/31/2007  A Dog's Breakfast              $120,000   \n",
       "\n",
       "     USD_Worldwide_Gross USD_Domestic_Gross  \n",
       "3055                  $0                 $0  "
      ]
     },
     "execution_count": 7,
     "metadata": {},
     "output_type": "execute_result"
    }
   ],
   "source": [
    "df[df.duplicated(subset=['Release_Date', 'Movie_Title'])]"
   ]
  },
  {
   "cell_type": "markdown",
   "metadata": {},
   "source": [
    "So there are two entries for `A Dog's Breakfast`.\n",
    "\n",
    "Let's remove one."
   ]
  },
  {
   "cell_type": "code",
   "execution_count": 8,
   "metadata": {},
   "outputs": [
    {
     "data": {
      "text/plain": [
       "False"
      ]
     },
     "execution_count": 8,
     "metadata": {},
     "output_type": "execute_result"
    }
   ],
   "source": [
    "df = df.drop_duplicates(subset=['Release_Date', 'Movie_Title'])\n",
    "df.duplicated(subset=['Release_Date', 'Movie_Title']).any()"
   ]
  },
  {
   "cell_type": "markdown",
   "metadata": {},
   "source": [
    "Now that we have removed duplicates and checked there are no NaN values in our DataFrame. What else can we do next?\n",
    "\n",
    "* Change the dtype of `USD_Production_Budget`, `USD_Worldwide_Gross` and `USD_Domestic_Gross` to numerical data type.\n",
    "* Change the `Release_Date` into datetime data type."
   ]
  },
  {
   "cell_type": "code",
   "execution_count": 11,
   "metadata": {},
   "outputs": [
    {
     "name": "stdout",
     "output_type": "stream",
     "text": [
      "<class 'pandas.core.frame.DataFrame'>\n",
      "Int64Index: 5390 entries, 0 to 5390\n",
      "Data columns (total 6 columns):\n",
      " #   Column                 Non-Null Count  Dtype \n",
      "---  ------                 --------------  ----- \n",
      " 0   Rank                   5390 non-null   int64 \n",
      " 1   Release_Date           5390 non-null   object\n",
      " 2   Movie_Title            5390 non-null   object\n",
      " 3   USD_Production_Budget  5390 non-null   int64 \n",
      " 4   USD_Worldwide_Gross    5390 non-null   int64 \n",
      " 5   USD_Domestic_Gross     5390 non-null   int64 \n",
      "dtypes: int64(4), object(2)\n",
      "memory usage: 294.8+ KB\n"
     ]
    }
   ],
   "source": [
    "cols_to_repl = ['USD_Production_Budget', 'USD_Worldwide_Gross', 'USD_Domestic_Gross']\n",
    "chars_to_repl = ['$', ',']\n",
    "\n",
    "for col in cols_to_repl:\n",
    "    for char in chars_to_repl:\n",
    "        df[col] = df[col].str.replace(char, '', regex=False)\n",
    "    df[col] = pd.to_numeric(df[col])\n",
    "\n",
    "df.info()"
   ]
  },
  {
   "cell_type": "code",
   "execution_count": 13,
   "metadata": {},
   "outputs": [
    {
     "name": "stdout",
     "output_type": "stream",
     "text": [
      "<class 'pandas.core.frame.DataFrame'>\n",
      "Int64Index: 5390 entries, 0 to 5390\n",
      "Data columns (total 6 columns):\n",
      " #   Column                 Non-Null Count  Dtype         \n",
      "---  ------                 --------------  -----         \n",
      " 0   Rank                   5390 non-null   int64         \n",
      " 1   Release_Date           5390 non-null   datetime64[ns]\n",
      " 2   Movie_Title            5390 non-null   object        \n",
      " 3   USD_Production_Budget  5390 non-null   int64         \n",
      " 4   USD_Worldwide_Gross    5390 non-null   int64         \n",
      " 5   USD_Domestic_Gross     5390 non-null   int64         \n",
      "dtypes: datetime64[ns](1), int64(4), object(1)\n",
      "memory usage: 294.8+ KB\n"
     ]
    }
   ],
   "source": [
    "df['Release_Date'] = pd.to_datetime(df['Release_Date'])\n",
    "df.info()"
   ]
  },
  {
   "cell_type": "code",
   "execution_count": 14,
   "metadata": {},
   "outputs": [
    {
     "data": {
      "text/html": [
       "<div>\n",
       "<style scoped>\n",
       "    .dataframe tbody tr th:only-of-type {\n",
       "        vertical-align: middle;\n",
       "    }\n",
       "\n",
       "    .dataframe tbody tr th {\n",
       "        vertical-align: top;\n",
       "    }\n",
       "\n",
       "    .dataframe thead th {\n",
       "        text-align: right;\n",
       "    }\n",
       "</style>\n",
       "<table border=\"1\" class=\"dataframe\">\n",
       "  <thead>\n",
       "    <tr style=\"text-align: right;\">\n",
       "      <th></th>\n",
       "      <th>Rank</th>\n",
       "      <th>Release_Date</th>\n",
       "      <th>Movie_Title</th>\n",
       "      <th>USD_Production_Budget</th>\n",
       "      <th>USD_Worldwide_Gross</th>\n",
       "      <th>USD_Domestic_Gross</th>\n",
       "    </tr>\n",
       "  </thead>\n",
       "  <tbody>\n",
       "    <tr>\n",
       "      <th>1367</th>\n",
       "      <td>1306</td>\n",
       "      <td>1999-12-24</td>\n",
       "      <td>The Talented Mr. Ripley</td>\n",
       "      <td>40000000</td>\n",
       "      <td>128792135</td>\n",
       "      <td>81292135</td>\n",
       "    </tr>\n",
       "    <tr>\n",
       "      <th>2458</th>\n",
       "      <td>2396</td>\n",
       "      <td>2005-07-10</td>\n",
       "      <td>2 For the Money</td>\n",
       "      <td>20000000</td>\n",
       "      <td>30491379</td>\n",
       "      <td>22991379</td>\n",
       "    </tr>\n",
       "    <tr>\n",
       "      <th>1075</th>\n",
       "      <td>4062</td>\n",
       "      <td>1998-03-27</td>\n",
       "      <td>No Looking Back</td>\n",
       "      <td>5000000</td>\n",
       "      <td>143273</td>\n",
       "      <td>143273</td>\n",
       "    </tr>\n",
       "    <tr>\n",
       "      <th>5244</th>\n",
       "      <td>3356</td>\n",
       "      <td>2016-09-16</td>\n",
       "      <td>Blair Witch</td>\n",
       "      <td>10000000</td>\n",
       "      <td>37493221</td>\n",
       "      <td>20777061</td>\n",
       "    </tr>\n",
       "    <tr>\n",
       "      <th>2167</th>\n",
       "      <td>3037</td>\n",
       "      <td>2004-01-23</td>\n",
       "      <td>The Butterfly Effect</td>\n",
       "      <td>13000000</td>\n",
       "      <td>95638592</td>\n",
       "      <td>57924679</td>\n",
       "    </tr>\n",
       "    <tr>\n",
       "      <th>3623</th>\n",
       "      <td>3434</td>\n",
       "      <td>2010-04-16</td>\n",
       "      <td>The Joneses</td>\n",
       "      <td>10000000</td>\n",
       "      <td>3541565</td>\n",
       "      <td>1475746</td>\n",
       "    </tr>\n",
       "    <tr>\n",
       "      <th>1161</th>\n",
       "      <td>3158</td>\n",
       "      <td>1998-11-09</td>\n",
       "      <td>Rounders</td>\n",
       "      <td>12000000</td>\n",
       "      <td>22921898</td>\n",
       "      <td>22921898</td>\n",
       "    </tr>\n",
       "    <tr>\n",
       "      <th>1483</th>\n",
       "      <td>3309</td>\n",
       "      <td>2000-08-25</td>\n",
       "      <td>Bring it On</td>\n",
       "      <td>10000000</td>\n",
       "      <td>90453550</td>\n",
       "      <td>68353550</td>\n",
       "    </tr>\n",
       "    <tr>\n",
       "      <th>4148</th>\n",
       "      <td>3858</td>\n",
       "      <td>2012-04-27</td>\n",
       "      <td>Bernie</td>\n",
       "      <td>6000000</td>\n",
       "      <td>10106975</td>\n",
       "      <td>9204489</td>\n",
       "    </tr>\n",
       "    <tr>\n",
       "      <th>1648</th>\n",
       "      <td>4534</td>\n",
       "      <td>2001-07-13</td>\n",
       "      <td>Bully</td>\n",
       "      <td>2100000</td>\n",
       "      <td>1381824</td>\n",
       "      <td>881824</td>\n",
       "    </tr>\n",
       "    <tr>\n",
       "      <th>3556</th>\n",
       "      <td>2362</td>\n",
       "      <td>2010-01-09</td>\n",
       "      <td>The American</td>\n",
       "      <td>20000000</td>\n",
       "      <td>67950723</td>\n",
       "      <td>35606376</td>\n",
       "    </tr>\n",
       "    <tr>\n",
       "      <th>1609</th>\n",
       "      <td>629</td>\n",
       "      <td>2001-04-27</td>\n",
       "      <td>Driven</td>\n",
       "      <td>72000000</td>\n",
       "      <td>54616869</td>\n",
       "      <td>32616869</td>\n",
       "    </tr>\n",
       "    <tr>\n",
       "      <th>1488</th>\n",
       "      <td>1596</td>\n",
       "      <td>2000-09-15</td>\n",
       "      <td>Bait</td>\n",
       "      <td>35000000</td>\n",
       "      <td>15471969</td>\n",
       "      <td>15325127</td>\n",
       "    </tr>\n",
       "    <tr>\n",
       "      <th>1733</th>\n",
       "      <td>630</td>\n",
       "      <td>2001-12-21</td>\n",
       "      <td>The Majestic</td>\n",
       "      <td>72000000</td>\n",
       "      <td>37306334</td>\n",
       "      <td>27796042</td>\n",
       "    </tr>\n",
       "    <tr>\n",
       "      <th>4054</th>\n",
       "      <td>406</td>\n",
       "      <td>2011-12-20</td>\n",
       "      <td>The Girl with the Dragon Tattoo</td>\n",
       "      <td>90000000</td>\n",
       "      <td>239373970</td>\n",
       "      <td>102515793</td>\n",
       "    </tr>\n",
       "    <tr>\n",
       "      <th>4414</th>\n",
       "      <td>5084</td>\n",
       "      <td>2013-06-28</td>\n",
       "      <td>Detention of the Dead</td>\n",
       "      <td>500000</td>\n",
       "      <td>1778</td>\n",
       "      <td>1778</td>\n",
       "    </tr>\n",
       "    <tr>\n",
       "      <th>4898</th>\n",
       "      <td>3315</td>\n",
       "      <td>2015-05-06</td>\n",
       "      <td>Insidious Chapter 3</td>\n",
       "      <td>10000000</td>\n",
       "      <td>120678444</td>\n",
       "      <td>52218558</td>\n",
       "    </tr>\n",
       "    <tr>\n",
       "      <th>1379</th>\n",
       "      <td>5358</td>\n",
       "      <td>2000-01-14</td>\n",
       "      <td>The Terrorist</td>\n",
       "      <td>25000</td>\n",
       "      <td>195043</td>\n",
       "      <td>195043</td>\n",
       "    </tr>\n",
       "    <tr>\n",
       "      <th>2028</th>\n",
       "      <td>4830</td>\n",
       "      <td>2003-05-14</td>\n",
       "      <td>Dracula: Pages from a Virgin's Diary</td>\n",
       "      <td>1100000</td>\n",
       "      <td>81371</td>\n",
       "      <td>39659</td>\n",
       "    </tr>\n",
       "    <tr>\n",
       "      <th>1992</th>\n",
       "      <td>949</td>\n",
       "      <td>2003-03-14</td>\n",
       "      <td>The Hunted</td>\n",
       "      <td>55000000</td>\n",
       "      <td>47213095</td>\n",
       "      <td>34234008</td>\n",
       "    </tr>\n",
       "  </tbody>\n",
       "</table>\n",
       "</div>"
      ],
      "text/plain": [
       "      Rank Release_Date                           Movie_Title  \\\n",
       "1367  1306   1999-12-24               The Talented Mr. Ripley   \n",
       "2458  2396   2005-07-10                       2 For the Money   \n",
       "1075  4062   1998-03-27                       No Looking Back   \n",
       "5244  3356   2016-09-16                           Blair Witch   \n",
       "2167  3037   2004-01-23                  The Butterfly Effect   \n",
       "3623  3434   2010-04-16                           The Joneses   \n",
       "1161  3158   1998-11-09                              Rounders   \n",
       "1483  3309   2000-08-25                           Bring it On   \n",
       "4148  3858   2012-04-27                                Bernie   \n",
       "1648  4534   2001-07-13                                 Bully   \n",
       "3556  2362   2010-01-09                          The American   \n",
       "1609   629   2001-04-27                                Driven   \n",
       "1488  1596   2000-09-15                                  Bait   \n",
       "1733   630   2001-12-21                          The Majestic   \n",
       "4054   406   2011-12-20       The Girl with the Dragon Tattoo   \n",
       "4414  5084   2013-06-28                 Detention of the Dead   \n",
       "4898  3315   2015-05-06                   Insidious Chapter 3   \n",
       "1379  5358   2000-01-14                         The Terrorist   \n",
       "2028  4830   2003-05-14  Dracula: Pages from a Virgin's Diary   \n",
       "1992   949   2003-03-14                            The Hunted   \n",
       "\n",
       "      USD_Production_Budget  USD_Worldwide_Gross  USD_Domestic_Gross  \n",
       "1367               40000000            128792135            81292135  \n",
       "2458               20000000             30491379            22991379  \n",
       "1075                5000000               143273              143273  \n",
       "5244               10000000             37493221            20777061  \n",
       "2167               13000000             95638592            57924679  \n",
       "3623               10000000              3541565             1475746  \n",
       "1161               12000000             22921898            22921898  \n",
       "1483               10000000             90453550            68353550  \n",
       "4148                6000000             10106975             9204489  \n",
       "1648                2100000              1381824              881824  \n",
       "3556               20000000             67950723            35606376  \n",
       "1609               72000000             54616869            32616869  \n",
       "1488               35000000             15471969            15325127  \n",
       "1733               72000000             37306334            27796042  \n",
       "4054               90000000            239373970           102515793  \n",
       "4414                 500000                 1778                1778  \n",
       "4898               10000000            120678444            52218558  \n",
       "1379                  25000               195043              195043  \n",
       "2028                1100000                81371               39659  \n",
       "1992               55000000             47213095            34234008  "
      ]
     },
     "execution_count": 14,
     "metadata": {},
     "output_type": "execute_result"
    }
   ],
   "source": [
    "df.sample(n=20)"
   ]
  },
  {
   "cell_type": "code",
   "execution_count": null,
   "metadata": {},
   "outputs": [],
   "source": []
  }
 ],
 "metadata": {
  "interpreter": {
   "hash": "2e7810371c29f66d27f8124403916e00c6a6eaf00892c27b0b57a765447e0320"
  },
  "kernelspec": {
   "display_name": "Python 3.9.7 64-bit (conda)",
   "language": "python",
   "name": "python3"
  },
  "language_info": {
   "codemirror_mode": {
    "name": "ipython",
    "version": 3
   },
   "file_extension": ".py",
   "mimetype": "text/x-python",
   "name": "python",
   "nbconvert_exporter": "python",
   "pygments_lexer": "ipython3",
   "version": "3.9.7"
  },
  "orig_nbformat": 4
 },
 "nbformat": 4,
 "nbformat_minor": 2
}
